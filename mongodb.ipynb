{
  "cells": [
    {
      "cell_type": "markdown",
      "metadata": {
        "id": "view-in-github",
        "colab_type": "text"
      },
      "source": [
        "<a href=\"https://colab.research.google.com/github/LavanyaRagavi/LavanyaRagavi/blob/main/mongodb.ipynb\" target=\"_parent\"><img src=\"https://colab.research.google.com/assets/colab-badge.svg\" alt=\"Open In Colab\"/></a>"
      ]
    },
    {
      "cell_type": "code",
      "execution_count": null,
      "id": "61b7c9af",
      "metadata": {
        "id": "61b7c9af"
      },
      "outputs": [],
      "source": [
        "import pymongo"
      ]
    },
    {
      "cell_type": "code",
      "execution_count": null,
      "id": "bb14b98c",
      "metadata": {
        "id": "bb14b98c"
      },
      "outputs": [],
      "source": [
        "client = pymongo.MongoClient(\"mongodb://localhost:27017/\")"
      ]
    },
    {
      "cell_type": "code",
      "execution_count": null,
      "id": "f2ab9fe9",
      "metadata": {
        "id": "f2ab9fe9",
        "outputId": "1ba1dab0-47bf-4512-b3e2-0f8eab500527"
      },
      "outputs": [
        {
          "data": {
            "text/plain": [
              "MongoClient(host=['localhost:27017'], document_class=dict, tz_aware=False, connect=True)"
            ]
          },
          "execution_count": 3,
          "metadata": {},
          "output_type": "execute_result"
        }
      ],
      "source": [
        "client"
      ]
    },
    {
      "cell_type": "code",
      "execution_count": null,
      "id": "5c46a8e0",
      "metadata": {
        "id": "5c46a8e0",
        "outputId": "64f3cb81-a580-4c31-d456-11b68f285812"
      },
      "outputs": [
        {
          "data": {
            "text/plain": [
              "['admin', 'config', 'feb', 'hospital_database', 'local']"
            ]
          },
          "execution_count": 4,
          "metadata": {},
          "output_type": "execute_result"
        }
      ],
      "source": [
        "client.list_database_names()"
      ]
    },
    {
      "cell_type": "code",
      "execution_count": null,
      "id": "99caa1cc",
      "metadata": {
        "id": "99caa1cc"
      },
      "outputs": [],
      "source": [
        "db = client[\"hospital_database\"]"
      ]
    },
    {
      "cell_type": "code",
      "execution_count": null,
      "id": "f8bdd154",
      "metadata": {
        "id": "f8bdd154",
        "outputId": "030907be-a314-4905-ee94-6376428c93e3"
      },
      "outputs": [
        {
          "data": {
            "text/plain": [
              "Database(MongoClient(host=['localhost:27017'], document_class=dict, tz_aware=False, connect=True), 'hospital_database')"
            ]
          },
          "execution_count": 6,
          "metadata": {},
          "output_type": "execute_result"
        }
      ],
      "source": [
        "db"
      ]
    },
    {
      "cell_type": "code",
      "execution_count": null,
      "id": "5277e245",
      "metadata": {
        "id": "5277e245",
        "outputId": "2bea016d-7817-4eae-8f9e-ec3affa70cbc"
      },
      "outputs": [
        {
          "data": {
            "text/plain": [
              "['admin', 'config', 'feb', 'hospital_database', 'local']"
            ]
          },
          "execution_count": 7,
          "metadata": {},
          "output_type": "execute_result"
        }
      ],
      "source": [
        "client.list_database_names()"
      ]
    },
    {
      "cell_type": "code",
      "execution_count": null,
      "id": "2566af66",
      "metadata": {
        "id": "2566af66"
      },
      "outputs": [],
      "source": []
    },
    {
      "cell_type": "code",
      "execution_count": null,
      "id": "437cf272",
      "metadata": {
        "id": "437cf272"
      },
      "outputs": [],
      "source": [
        "coll = db['doctors_data']"
      ]
    },
    {
      "cell_type": "code",
      "execution_count": null,
      "id": "dcb1a65c",
      "metadata": {
        "id": "dcb1a65c",
        "outputId": "04db332e-77db-40bd-d99c-c8823160c8d0"
      },
      "outputs": [
        {
          "data": {
            "text/plain": [
              "Collection(Database(MongoClient(host=['localhost:27017'], document_class=dict, tz_aware=False, connect=True), 'hospital_database'), 'doctors_data')"
            ]
          },
          "execution_count": 9,
          "metadata": {},
          "output_type": "execute_result"
        }
      ],
      "source": [
        "coll"
      ]
    },
    {
      "cell_type": "code",
      "execution_count": null,
      "id": "b2ba9c2a",
      "metadata": {
        "id": "b2ba9c2a",
        "outputId": "7bc5921f-e01b-4617-a9a5-5afd112e390d"
      },
      "outputs": [
        {
          "data": {
            "text/plain": [
              "['doctors_data']"
            ]
          },
          "execution_count": 10,
          "metadata": {},
          "output_type": "execute_result"
        }
      ],
      "source": [
        "db.list_collection_names()"
      ]
    },
    {
      "cell_type": "code",
      "execution_count": null,
      "id": "df572d28",
      "metadata": {
        "id": "df572d28"
      },
      "outputs": [],
      "source": [
        "doctors_details = {\n",
        "    'name' : 'Abhishek',\n",
        "    'address' : 'bangalore',\n",
        "    'year' : 2024\n",
        "}"
      ]
    },
    {
      "cell_type": "code",
      "execution_count": null,
      "id": "e4fc13a9",
      "metadata": {
        "id": "e4fc13a9",
        "outputId": "b8a0b44f-58e6-44f2-8777-abacf0ea475c"
      },
      "outputs": [
        {
          "data": {
            "text/plain": [
              "{'name': 'Abhishek', 'address': 'bangalore', 'year': 2024}"
            ]
          },
          "execution_count": 12,
          "metadata": {},
          "output_type": "execute_result"
        }
      ],
      "source": [
        "doctors_details"
      ]
    },
    {
      "cell_type": "code",
      "execution_count": null,
      "id": "c432f54b",
      "metadata": {
        "id": "c432f54b",
        "outputId": "2c27d2c8-8a3f-4c17-8efa-8ef397afd09c"
      },
      "outputs": [
        {
          "data": {
            "text/plain": [
              "<pymongo.results.InsertOneResult at 0x21eefed8a88>"
            ]
          },
          "execution_count": 13,
          "metadata": {},
          "output_type": "execute_result"
        }
      ],
      "source": [
        "coll.insert_one(doctors_details)"
      ]
    },
    {
      "cell_type": "code",
      "execution_count": null,
      "id": "eec69ba9",
      "metadata": {
        "id": "eec69ba9",
        "outputId": "40235da9-3b11-4a1a-df4a-05ce61d380c3"
      },
      "outputs": [
        {
          "name": "stdout",
          "output_type": "stream",
          "text": [
            "{'_id': ObjectId('65bf15fb67a5ec31e78c9c00'), 'name': 'appolo1', 'address': 'bangalore', 'year': None}\n",
            "{'_id': ObjectId('65bf15fb67a5ec31e78c9c01'), 'name': 'appolo2', 'address': 'bangalore2', 'year': 2022}\n",
            "{'_id': ObjectId('65bf15fb67a5ec31e78c9c02'), 'name': 'appolo3', 'address': 'bangalore', 'year': 2023}\n",
            "{'_id': ObjectId('65bf15fb67a5ec31e78c9c03'), 'name': 'appolo4', 'address': 'bangalore4', 'year': 2021}\n",
            "{'_id': ObjectId('65bf1a5f874c79923da5e5a3'), 'name': 'schin', 'age': 26}\n",
            "{'_id': ObjectId('65c6ebea3b9898778dc8e555'), 'name': 'Abhishek', 'address': 'bangalore', 'year': 2024}\n"
          ]
        }
      ],
      "source": [
        "for i in coll.find():\n",
        "    print(i)"
      ]
    },
    {
      "cell_type": "code",
      "execution_count": null,
      "id": "43958850",
      "metadata": {
        "id": "43958850"
      },
      "outputs": [],
      "source": [
        "hospital_details = [\n",
        "{\n",
        "    'name' : 'appolo1',\n",
        "    'address' : 'bangalore1',\n",
        "    'year' : 2023\n",
        "},\n",
        "{\n",
        "    'name' : 'appolo2',\n",
        "    'address' : 'bangalore2',\n",
        "    'year' : 2022\n",
        "},\n",
        "{\n",
        "    'name' : 'appolo3',\n",
        "    'address' : 'bangalore3',\n",
        "    'year' : 2023\n",
        "},\n",
        "{\n",
        "    'name' : 'appolo4',\n",
        "    'address' : 'bangalore4',\n",
        "    'year' : 2021\n",
        "}\n",
        "]\n"
      ]
    },
    {
      "cell_type": "code",
      "execution_count": null,
      "id": "df532606",
      "metadata": {
        "id": "df532606",
        "outputId": "282cc48f-98b8-4d8f-d49b-8be2c01f1546"
      },
      "outputs": [
        {
          "data": {
            "text/plain": [
              "[{'name': 'appolo1', 'address': 'bangalore1', 'year': 2023},\n",
              " {'name': 'appolo2', 'address': 'bangalore2', 'year': 2022},\n",
              " {'name': 'appolo3', 'address': 'bangalore3', 'year': 2023},\n",
              " {'name': 'appolo4', 'address': 'bangalore4', 'year': 2021}]"
            ]
          },
          "execution_count": 16,
          "metadata": {},
          "output_type": "execute_result"
        }
      ],
      "source": [
        "hospital_details"
      ]
    },
    {
      "cell_type": "code",
      "execution_count": null,
      "id": "4ca91bb8",
      "metadata": {
        "id": "4ca91bb8",
        "outputId": "24f54bdb-e24b-473e-fac1-79e8ffac1320"
      },
      "outputs": [
        {
          "data": {
            "text/plain": [
              "<pymongo.results.InsertManyResult at 0x21eee409588>"
            ]
          },
          "execution_count": 17,
          "metadata": {},
          "output_type": "execute_result"
        }
      ],
      "source": [
        "coll.insert_many(hospital_details)"
      ]
    },
    {
      "cell_type": "code",
      "execution_count": null,
      "id": "7be60305",
      "metadata": {
        "id": "7be60305",
        "outputId": "373d9e5b-837f-4c4f-8442-1b60b878b125"
      },
      "outputs": [
        {
          "name": "stdout",
          "output_type": "stream",
          "text": [
            "{'_id': ObjectId('65bf15fb67a5ec31e78c9c00'), 'name': 'appolo1', 'address': 'bangalore', 'year': None}\n",
            "{'_id': ObjectId('65bf15fb67a5ec31e78c9c01'), 'name': 'appolo2', 'address': 'bangalore2', 'year': 2022}\n",
            "{'_id': ObjectId('65bf15fb67a5ec31e78c9c02'), 'name': 'appolo3', 'address': 'bangalore', 'year': 2023}\n",
            "{'_id': ObjectId('65bf15fb67a5ec31e78c9c03'), 'name': 'appolo4', 'address': 'bangalore4', 'year': 2021}\n",
            "{'_id': ObjectId('65bf1a5f874c79923da5e5a3'), 'name': 'schin', 'age': 26}\n",
            "{'_id': ObjectId('65c6ebea3b9898778dc8e555'), 'name': 'Abhishek', 'address': 'bangalore', 'year': 2024}\n",
            "{'_id': ObjectId('65c6ebf03b9898778dc8e556'), 'name': 'appolo1', 'address': 'bangalore1', 'year': 2023}\n",
            "{'_id': ObjectId('65c6ebf03b9898778dc8e557'), 'name': 'appolo2', 'address': 'bangalore2', 'year': 2022}\n",
            "{'_id': ObjectId('65c6ebf03b9898778dc8e558'), 'name': 'appolo3', 'address': 'bangalore3', 'year': 2023}\n",
            "{'_id': ObjectId('65c6ebf03b9898778dc8e559'), 'name': 'appolo4', 'address': 'bangalore4', 'year': 2021}\n"
          ]
        }
      ],
      "source": [
        "for i in coll.find():\n",
        "    print(i)"
      ]
    },
    {
      "cell_type": "code",
      "execution_count": null,
      "id": "d223d0b7",
      "metadata": {
        "id": "d223d0b7"
      },
      "outputs": [],
      "source": [
        "query = {\"name\": 'appolo1'}"
      ]
    },
    {
      "cell_type": "code",
      "execution_count": null,
      "id": "42ca867c",
      "metadata": {
        "id": "42ca867c",
        "outputId": "d04ea91e-8a55-45f0-e6af-b0a96ccf140a"
      },
      "outputs": [
        {
          "data": {
            "text/plain": [
              "{'_id': ObjectId('65bf15fb67a5ec31e78c9c00'),\n",
              " 'name': 'appolo1',\n",
              " 'address': 'bangalore1',\n",
              " 'year': 2023}"
            ]
          },
          "execution_count": 23,
          "metadata": {},
          "output_type": "execute_result"
        }
      ],
      "source": [
        "coll.find_one(query)"
      ]
    },
    {
      "cell_type": "code",
      "execution_count": null,
      "id": "b9f4662b",
      "metadata": {
        "id": "b9f4662b"
      },
      "outputs": [],
      "source": [
        "query = {\"year\": 2023}"
      ]
    },
    {
      "cell_type": "code",
      "execution_count": null,
      "id": "e7cf140c",
      "metadata": {
        "id": "e7cf140c"
      },
      "outputs": [],
      "source": [
        "coll.find_one(query)"
      ]
    },
    {
      "cell_type": "code",
      "execution_count": null,
      "id": "8a72ff62",
      "metadata": {
        "id": "8a72ff62",
        "outputId": "a99cdf07-59e9-491f-ee4e-98ece95966be"
      },
      "outputs": [
        {
          "name": "stdout",
          "output_type": "stream",
          "text": [
            "{'_id': ObjectId('65bf15fb67a5ec31e78c9c00'), 'name': 'appolo1', 'address': 'bangalore1', 'year': 2023}\n",
            "{'_id': ObjectId('65bf15fb67a5ec31e78c9c02'), 'name': 'appolo3', 'address': 'bangalore3', 'year': 2023}\n"
          ]
        }
      ],
      "source": [
        "result = coll.find(query)\n",
        "\n",
        "for i in result:\n",
        "    print(i)"
      ]
    },
    {
      "cell_type": "code",
      "execution_count": null,
      "id": "90327357",
      "metadata": {
        "id": "90327357",
        "outputId": "8fb30389-35a6-4585-87f8-2636be1032d6"
      },
      "outputs": [
        {
          "name": "stdout",
          "output_type": "stream",
          "text": [
            "{'_id': ObjectId('65bf151267a5ec31e78c9bff'), 'name': 'Abhishek', 'address': 'bangalore', 'year': 2024}\n",
            "{'_id': ObjectId('65bf15fb67a5ec31e78c9c00'), 'name': 'appolo1', 'address': 'bangalore1', 'year': 2023}\n"
          ]
        }
      ],
      "source": [
        "result  = coll.find({}).limit(2)\n",
        "for i in result:\n",
        "    print(i)"
      ]
    },
    {
      "cell_type": "code",
      "execution_count": null,
      "id": "ed5511c5",
      "metadata": {
        "id": "ed5511c5"
      },
      "outputs": [],
      "source": [
        "result"
      ]
    },
    {
      "cell_type": "code",
      "execution_count": null,
      "id": "e161e78a",
      "metadata": {
        "id": "e161e78a"
      },
      "outputs": [],
      "source": [
        "# insert\n",
        "# see\n",
        "# update"
      ]
    },
    {
      "cell_type": "code",
      "execution_count": null,
      "id": "38e362fd",
      "metadata": {
        "id": "38e362fd"
      },
      "outputs": [],
      "source": []
    },
    {
      "cell_type": "code",
      "execution_count": null,
      "id": "368ab397",
      "metadata": {
        "id": "368ab397",
        "outputId": "c684927e-e7c4-4895-95ca-4b5fb76b8d6c"
      },
      "outputs": [
        {
          "data": {
            "text/plain": [
              "<pymongo.results.UpdateResult at 0x1fe4ce1a4c8>"
            ]
          },
          "execution_count": 32,
          "metadata": {},
          "output_type": "execute_result"
        }
      ],
      "source": [
        "coll.update_one({\"name\": 'Abhishek'}, {\"$set\": {'address': 'bangalore5'}})"
      ]
    },
    {
      "cell_type": "code",
      "execution_count": null,
      "id": "c2612f5c",
      "metadata": {
        "id": "c2612f5c",
        "outputId": "7b66845d-5085-4a2b-f51f-1a2a406ae909"
      },
      "outputs": [
        {
          "name": "stdout",
          "output_type": "stream",
          "text": [
            "{'_id': ObjectId('65bf151267a5ec31e78c9bff'), 'name': 'Abhishek', 'address': 'bangalore5', 'year': 2024}\n",
            "{'_id': ObjectId('65bf15fb67a5ec31e78c9c00'), 'name': 'appolo1', 'address': 'bangalore1', 'year': 2023}\n",
            "{'_id': ObjectId('65bf15fb67a5ec31e78c9c01'), 'name': 'appolo2', 'address': 'bangalore2', 'year': 2022}\n",
            "{'_id': ObjectId('65bf15fb67a5ec31e78c9c02'), 'name': 'appolo3', 'address': 'bangalore3', 'year': 2023}\n",
            "{'_id': ObjectId('65bf15fb67a5ec31e78c9c03'), 'name': 'appolo4', 'address': 'bangalore4', 'year': 2021}\n"
          ]
        }
      ],
      "source": [
        "for i in coll.find():\n",
        "    print(i)"
      ]
    },
    {
      "cell_type": "code",
      "execution_count": null,
      "id": "458cd6d3",
      "metadata": {
        "id": "458cd6d3",
        "outputId": "fa6e37df-c2cc-48d8-e972-21ef18005455"
      },
      "outputs": [
        {
          "data": {
            "text/plain": [
              "<pymongo.results.UpdateResult at 0x1fe4ce16ec8>"
            ]
          },
          "execution_count": 34,
          "metadata": {},
          "output_type": "execute_result"
        }
      ],
      "source": [
        "coll.update_many({\"year\": 2023}, {\"$set\": {'address': 'bangalore'}})"
      ]
    },
    {
      "cell_type": "code",
      "execution_count": null,
      "id": "b23b6de5",
      "metadata": {
        "id": "b23b6de5",
        "outputId": "67526e8a-c69a-4d34-8b85-f6ed21fcab20"
      },
      "outputs": [
        {
          "name": "stdout",
          "output_type": "stream",
          "text": [
            "{'_id': ObjectId('65bf151267a5ec31e78c9bff'), 'name': 'Abhishek', 'address': 'bangalore5', 'year': 2024}\n",
            "{'_id': ObjectId('65bf15fb67a5ec31e78c9c00'), 'name': 'appolo1', 'address': 'bangalore', 'year': 2023}\n",
            "{'_id': ObjectId('65bf15fb67a5ec31e78c9c01'), 'name': 'appolo2', 'address': 'bangalore2', 'year': 2022}\n",
            "{'_id': ObjectId('65bf15fb67a5ec31e78c9c02'), 'name': 'appolo3', 'address': 'bangalore', 'year': 2023}\n",
            "{'_id': ObjectId('65bf15fb67a5ec31e78c9c03'), 'name': 'appolo4', 'address': 'bangalore4', 'year': 2021}\n"
          ]
        }
      ],
      "source": [
        "for i in coll.find():\n",
        "    print(i)"
      ]
    },
    {
      "cell_type": "code",
      "execution_count": null,
      "id": "3e3359cc",
      "metadata": {
        "id": "3e3359cc"
      },
      "outputs": [],
      "source": [
        "query = {\"year\": 2024}"
      ]
    },
    {
      "cell_type": "code",
      "execution_count": null,
      "id": "2bb817fd",
      "metadata": {
        "id": "2bb817fd",
        "outputId": "e7544f79-9a8a-4205-ffdf-4efd4f07aa4e"
      },
      "outputs": [
        {
          "data": {
            "text/plain": [
              "<pymongo.results.DeleteResult at 0x1fe4ce16088>"
            ]
          },
          "execution_count": 37,
          "metadata": {},
          "output_type": "execute_result"
        }
      ],
      "source": [
        "coll.delete_one(query)"
      ]
    },
    {
      "cell_type": "code",
      "execution_count": null,
      "id": "c963ddad",
      "metadata": {
        "id": "c963ddad",
        "outputId": "f7607cad-2e96-4da5-de31-5c2880a0bac6"
      },
      "outputs": [
        {
          "name": "stdout",
          "output_type": "stream",
          "text": [
            "{'_id': ObjectId('65bf15fb67a5ec31e78c9c00'), 'name': 'appolo1', 'address': 'bangalore', 'year': 2023}\n",
            "{'_id': ObjectId('65bf15fb67a5ec31e78c9c01'), 'name': 'appolo2', 'address': 'bangalore2', 'year': 2022}\n",
            "{'_id': ObjectId('65bf15fb67a5ec31e78c9c02'), 'name': 'appolo3', 'address': 'bangalore', 'year': 2023}\n",
            "{'_id': ObjectId('65bf15fb67a5ec31e78c9c03'), 'name': 'appolo4', 'address': 'bangalore4', 'year': 2021}\n"
          ]
        }
      ],
      "source": [
        "for i in coll.find():\n",
        "    print(i)"
      ]
    },
    {
      "cell_type": "code",
      "execution_count": null,
      "id": "6cc5e8bd",
      "metadata": {
        "id": "6cc5e8bd"
      },
      "outputs": [],
      "source": []
    },
    {
      "cell_type": "code",
      "execution_count": null,
      "id": "77979be4",
      "metadata": {
        "id": "77979be4"
      },
      "outputs": [],
      "source": [
        "query = {\"year\": 2023}"
      ]
    },
    {
      "cell_type": "code",
      "execution_count": null,
      "id": "1859b33f",
      "metadata": {
        "id": "1859b33f"
      },
      "outputs": [],
      "source": [
        "coll.delete_many(query)"
      ]
    },
    {
      "cell_type": "code",
      "execution_count": null,
      "id": "ea73bbe6",
      "metadata": {
        "id": "ea73bbe6"
      },
      "outputs": [],
      "source": [
        "for i in coll.find():\n",
        "    print(i)"
      ]
    },
    {
      "cell_type": "code",
      "execution_count": null,
      "id": "ac23f4c6",
      "metadata": {
        "id": "ac23f4c6"
      },
      "outputs": [],
      "source": [
        "coll.drop()"
      ]
    },
    {
      "cell_type": "code",
      "execution_count": null,
      "id": "acc0eba7",
      "metadata": {
        "id": "acc0eba7"
      },
      "outputs": [],
      "source": [
        "for i in coll.find():\n",
        "    print(i)"
      ]
    },
    {
      "cell_type": "code",
      "execution_count": null,
      "id": "13c4aec9",
      "metadata": {
        "id": "13c4aec9"
      },
      "outputs": [],
      "source": [
        "# projection"
      ]
    },
    {
      "cell_type": "code",
      "execution_count": null,
      "id": "246a241e",
      "metadata": {
        "id": "246a241e",
        "outputId": "ee0af12f-f63e-4ad7-a707-99765fa4e434"
      },
      "outputs": [
        {
          "name": "stdout",
          "output_type": "stream",
          "text": [
            "{'_id': ObjectId('65bf15fb67a5ec31e78c9c00'), 'address': 'bangalore', 'year': None}\n",
            "{'_id': ObjectId('65bf15fb67a5ec31e78c9c01'), 'address': 'bangalore2', 'year': 2022}\n",
            "{'_id': ObjectId('65bf15fb67a5ec31e78c9c02'), 'address': 'bangalore', 'year': 2023}\n",
            "{'_id': ObjectId('65bf15fb67a5ec31e78c9c03'), 'address': 'bangalore4', 'year': 2021}\n",
            "{'_id': ObjectId('65bf1a5f874c79923da5e5a3'), 'age': 26}\n",
            "{'_id': ObjectId('65c6ebea3b9898778dc8e555'), 'address': 'bangalore', 'year': 2024}\n",
            "{'_id': ObjectId('65c6ebf03b9898778dc8e556'), 'address': 'bangalore1', 'year': 2023}\n",
            "{'_id': ObjectId('65c6ebf03b9898778dc8e557'), 'address': 'bangalore2', 'year': 2022}\n",
            "{'_id': ObjectId('65c6ebf03b9898778dc8e558'), 'address': 'bangalore3', 'year': 2023}\n",
            "{'_id': ObjectId('65c6ebf03b9898778dc8e559'), 'address': 'bangalore4', 'year': 2021}\n"
          ]
        }
      ],
      "source": [
        "result  = coll.find({},{'name':0})\n",
        "for i in result:\n",
        "    print(i)"
      ]
    },
    {
      "cell_type": "code",
      "execution_count": null,
      "id": "6f9b54f3",
      "metadata": {
        "id": "6f9b54f3"
      },
      "outputs": [],
      "source": [
        "# array in documents"
      ]
    },
    {
      "cell_type": "code",
      "execution_count": null,
      "id": "e8afed0a",
      "metadata": {
        "id": "e8afed0a"
      },
      "outputs": [],
      "source": [
        "result = coll.update_many({'name': 'Abhishek'},\n",
        "{'$push': {'players': {'$each': ['sachin','dravid']}}})"
      ]
    },
    {
      "cell_type": "code",
      "execution_count": null,
      "id": "e912441e",
      "metadata": {
        "id": "e912441e",
        "outputId": "1bb1dceb-f53a-41b2-deb5-177f053e4c79"
      },
      "outputs": [
        {
          "name": "stdout",
          "output_type": "stream",
          "text": [
            "{'_id': ObjectId('65bf15fb67a5ec31e78c9c00'), 'name': 'appolo1', 'address': 'bangalore', 'year': None}\n",
            "{'_id': ObjectId('65bf15fb67a5ec31e78c9c01'), 'name': 'appolo2', 'address': 'bangalore2', 'year': 2022}\n",
            "{'_id': ObjectId('65bf15fb67a5ec31e78c9c02'), 'name': 'appolo3', 'address': 'bangalore', 'year': 2023}\n",
            "{'_id': ObjectId('65bf15fb67a5ec31e78c9c03'), 'name': 'appolo4', 'address': 'bangalore4', 'year': 2021}\n",
            "{'_id': ObjectId('65bf1a5f874c79923da5e5a3'), 'name': 'schin', 'age': 26}\n",
            "{'_id': ObjectId('65c6ebea3b9898778dc8e555'), 'name': 'Abhishek', 'address': 'bangalore', 'year': 2024, 'players': ['sachin', 'dravid']}\n",
            "{'_id': ObjectId('65c6ebf03b9898778dc8e556'), 'name': 'appolo1', 'address': 'bangalore1', 'year': 2023}\n",
            "{'_id': ObjectId('65c6ebf03b9898778dc8e557'), 'name': 'appolo2', 'address': 'bangalore2', 'year': 2022}\n",
            "{'_id': ObjectId('65c6ebf03b9898778dc8e558'), 'name': 'appolo3', 'address': 'bangalore3', 'year': 2023}\n",
            "{'_id': ObjectId('65c6ebf03b9898778dc8e559'), 'name': 'appolo4', 'address': 'bangalore4', 'year': 2021}\n"
          ]
        }
      ],
      "source": [
        "for i in coll.find():\n",
        "    print(i)"
      ]
    },
    {
      "cell_type": "code",
      "execution_count": null,
      "id": "b7facf88",
      "metadata": {
        "id": "b7facf88"
      },
      "outputs": [],
      "source": [
        "# aggregation"
      ]
    },
    {
      "cell_type": "code",
      "execution_count": null,
      "id": "0a5b533d",
      "metadata": {
        "id": "0a5b533d"
      },
      "outputs": [],
      "source": [
        "pipeline = [\n",
        "    {'$match':{'address': 'bangalore'}},\n",
        "     {'$sort': {'year':-1}},\n",
        "    {'$limit': 3}\n",
        "]"
      ]
    },
    {
      "cell_type": "code",
      "execution_count": null,
      "id": "c523e2be",
      "metadata": {
        "id": "c523e2be"
      },
      "outputs": [],
      "source": [
        "result = coll.aggregate(pipeline)"
      ]
    },
    {
      "cell_type": "code",
      "execution_count": null,
      "id": "43a6ac02",
      "metadata": {
        "id": "43a6ac02",
        "outputId": "49dee1e5-d82f-4c3c-95dd-6871d78885f2"
      },
      "outputs": [
        {
          "name": "stdout",
          "output_type": "stream",
          "text": [
            "{'_id': ObjectId('65c6ebea3b9898778dc8e555'), 'name': 'Abhishek', 'address': 'bangalore', 'year': 2024, 'players': ['sachin', 'dravid']}\n",
            "{'_id': ObjectId('65bf15fb67a5ec31e78c9c02'), 'name': 'appolo3', 'address': 'bangalore', 'year': 2023}\n",
            "{'_id': ObjectId('65bf15fb67a5ec31e78c9c00'), 'name': 'appolo1', 'address': 'bangalore', 'year': None}\n"
          ]
        }
      ],
      "source": [
        "for i in result:\n",
        "    print(i)"
      ]
    },
    {
      "cell_type": "code",
      "execution_count": null,
      "id": "fe09a784",
      "metadata": {
        "id": "fe09a784"
      },
      "outputs": [],
      "source": []
    },
    {
      "cell_type": "code",
      "execution_count": null,
      "id": "9e2d8f70",
      "metadata": {
        "id": "9e2d8f70"
      },
      "outputs": [],
      "source": [
        "# embed"
      ]
    },
    {
      "cell_type": "code",
      "execution_count": null,
      "id": "f90c351e",
      "metadata": {
        "id": "f90c351e"
      },
      "outputs": [],
      "source": [
        "hospital_details = {\n",
        "    'name' : 'appolo',\n",
        "    'address' : 'bangalore',\n",
        "    'doctors' :\n",
        "    [\n",
        "        {\"doctore\": \"abhishek\",\n",
        "        \"speciality\": \"eye\"},\n",
        "        {\n",
        "        \"doctore\": \"sachin\",\n",
        "            \"speciality\": 'ent'\n",
        "        }\n",
        "    ]\n",
        "}"
      ]
    },
    {
      "cell_type": "code",
      "execution_count": null,
      "id": "34fde79c",
      "metadata": {
        "id": "34fde79c"
      },
      "outputs": [],
      "source": [
        "hospital_details"
      ]
    },
    {
      "cell_type": "code",
      "execution_count": null,
      "id": "4b657799",
      "metadata": {
        "id": "4b657799"
      },
      "outputs": [],
      "source": [
        "coll.insert_one(hospital_details)"
      ]
    },
    {
      "cell_type": "code",
      "execution_count": null,
      "id": "fa59f1f7",
      "metadata": {
        "id": "fa59f1f7"
      },
      "outputs": [],
      "source": [
        "x = coll.find()\n",
        "for i in x:\n",
        "    print(i)"
      ]
    },
    {
      "cell_type": "code",
      "execution_count": null,
      "id": "489f23e4",
      "metadata": {
        "id": "489f23e4"
      },
      "outputs": [],
      "source": [
        "query = {'year' : 2023}\n",
        "result  = coll.find(query)\n",
        "for i in result:\n",
        "    print(i)"
      ]
    },
    {
      "cell_type": "code",
      "execution_count": null,
      "id": "c0e4f418",
      "metadata": {
        "id": "c0e4f418"
      },
      "outputs": [],
      "source": [
        "query = {'name' : 'appolo'}\n",
        "project = {\"doctors.speciality\"}"
      ]
    },
    {
      "cell_type": "code",
      "execution_count": null,
      "id": "6883429b",
      "metadata": {
        "id": "6883429b"
      },
      "outputs": [],
      "source": [
        "result  = coll.find(query,project)"
      ]
    },
    {
      "cell_type": "code",
      "execution_count": null,
      "id": "e41de181",
      "metadata": {
        "id": "e41de181"
      },
      "outputs": [],
      "source": [
        "for i in result:\n",
        "    print(i)"
      ]
    },
    {
      "cell_type": "code",
      "execution_count": null,
      "id": "a5461131",
      "metadata": {
        "id": "a5461131"
      },
      "outputs": [],
      "source": []
    },
    {
      "cell_type": "code",
      "execution_count": null,
      "id": "6642db04",
      "metadata": {
        "id": "6642db04"
      },
      "outputs": [],
      "source": [
        "# aggregation"
      ]
    },
    {
      "cell_type": "code",
      "execution_count": null,
      "id": "c1ac8cbd",
      "metadata": {
        "id": "c1ac8cbd"
      },
      "outputs": [],
      "source": [
        "import pymongo\n"
      ]
    },
    {
      "cell_type": "code",
      "execution_count": null,
      "id": "a4ffa5f8",
      "metadata": {
        "id": "a4ffa5f8"
      },
      "outputs": [],
      "source": [
        "# match"
      ]
    },
    {
      "cell_type": "code",
      "execution_count": null,
      "id": "5eedab77",
      "metadata": {
        "id": "5eedab77"
      },
      "outputs": [],
      "source": [
        "pipe = [{\"$match\": { 'year': 2023}}]"
      ]
    },
    {
      "cell_type": "code",
      "execution_count": null,
      "id": "28a9fbac",
      "metadata": {
        "id": "28a9fbac",
        "outputId": "01f3c59a-1707-48ed-e964-ea2f112ea7cf"
      },
      "outputs": [
        {
          "data": {
            "text/plain": [
              "[{'$match': {'year': 2023}}]"
            ]
          },
          "execution_count": 23,
          "metadata": {},
          "output_type": "execute_result"
        }
      ],
      "source": [
        "pipe"
      ]
    },
    {
      "cell_type": "code",
      "execution_count": null,
      "id": "d5bbb200",
      "metadata": {
        "id": "d5bbb200"
      },
      "outputs": [],
      "source": [
        "result = list(coll.aggregate(pipe))"
      ]
    },
    {
      "cell_type": "code",
      "execution_count": null,
      "id": "46aab60e",
      "metadata": {
        "id": "46aab60e",
        "outputId": "73113ec8-a3e7-4dde-e798-cee692639de4"
      },
      "outputs": [
        {
          "data": {
            "text/plain": [
              "[{'_id': ObjectId('65bf15fb67a5ec31e78c9c02'),\n",
              "  'name': 'appolo3',\n",
              "  'address': 'bangalore',\n",
              "  'year': 2023},\n",
              " {'_id': ObjectId('65c6ebf03b9898778dc8e556'),\n",
              "  'name': 'appolo1',\n",
              "  'address': 'bangalore1',\n",
              "  'year': 2023},\n",
              " {'_id': ObjectId('65c6ebf03b9898778dc8e558'),\n",
              "  'name': 'appolo3',\n",
              "  'address': 'bangalore3',\n",
              "  'year': 2023}]"
            ]
          },
          "execution_count": 25,
          "metadata": {},
          "output_type": "execute_result"
        }
      ],
      "source": [
        "result"
      ]
    },
    {
      "cell_type": "code",
      "execution_count": null,
      "id": "3f6764eb",
      "metadata": {
        "id": "3f6764eb"
      },
      "outputs": [],
      "source": [
        "#  project"
      ]
    },
    {
      "cell_type": "code",
      "execution_count": null,
      "id": "8fb63130",
      "metadata": {
        "id": "8fb63130"
      },
      "outputs": [],
      "source": [
        "pipline = [{\"$project\": {\"name\":1, \"address\":1}}]"
      ]
    },
    {
      "cell_type": "code",
      "execution_count": null,
      "id": "2bd801e3",
      "metadata": {
        "id": "2bd801e3"
      },
      "outputs": [],
      "source": [
        "result = list(coll.aggregate(pipline))"
      ]
    },
    {
      "cell_type": "code",
      "execution_count": null,
      "id": "5638d349",
      "metadata": {
        "id": "5638d349",
        "outputId": "25bef987-ae45-4cd0-f990-a3489fa8ad74"
      },
      "outputs": [
        {
          "data": {
            "text/plain": [
              "[{'_id': ObjectId('65bf15fb67a5ec31e78c9c00'),\n",
              "  'name': 'appolo1',\n",
              "  'address': 'bangalore'},\n",
              " {'_id': ObjectId('65bf15fb67a5ec31e78c9c01'),\n",
              "  'name': 'appolo2',\n",
              "  'address': 'bangalore2'},\n",
              " {'_id': ObjectId('65bf15fb67a5ec31e78c9c02'),\n",
              "  'name': 'appolo3',\n",
              "  'address': 'bangalore'},\n",
              " {'_id': ObjectId('65bf15fb67a5ec31e78c9c03'),\n",
              "  'name': 'appolo4',\n",
              "  'address': 'bangalore4'},\n",
              " {'_id': ObjectId('65bf1a5f874c79923da5e5a3'), 'name': 'schin'},\n",
              " {'_id': ObjectId('65c6ebea3b9898778dc8e555'),\n",
              "  'name': 'Abhishek',\n",
              "  'address': 'bangalore'},\n",
              " {'_id': ObjectId('65c6ebf03b9898778dc8e556'),\n",
              "  'name': 'appolo1',\n",
              "  'address': 'bangalore1'},\n",
              " {'_id': ObjectId('65c6ebf03b9898778dc8e557'),\n",
              "  'name': 'appolo2',\n",
              "  'address': 'bangalore2'},\n",
              " {'_id': ObjectId('65c6ebf03b9898778dc8e558'),\n",
              "  'name': 'appolo3',\n",
              "  'address': 'bangalore3'},\n",
              " {'_id': ObjectId('65c6ebf03b9898778dc8e559'),\n",
              "  'name': 'appolo4',\n",
              "  'address': 'bangalore4'}]"
            ]
          },
          "execution_count": 28,
          "metadata": {},
          "output_type": "execute_result"
        }
      ],
      "source": [
        "result"
      ]
    },
    {
      "cell_type": "code",
      "execution_count": null,
      "id": "877e3bdb",
      "metadata": {
        "id": "877e3bdb"
      },
      "outputs": [],
      "source": []
    },
    {
      "cell_type": "code",
      "execution_count": null,
      "id": "3d5ac141",
      "metadata": {
        "id": "3d5ac141"
      },
      "outputs": [],
      "source": [
        "# group"
      ]
    },
    {
      "cell_type": "code",
      "execution_count": null,
      "id": "7a6813a3",
      "metadata": {
        "id": "7a6813a3"
      },
      "outputs": [],
      "source": [
        "pipeline = [{\"$group\": {\"_id\": '$address', \"Avg\": {'$avg':'$year'}} }]"
      ]
    },
    {
      "cell_type": "code",
      "execution_count": null,
      "id": "8e3a0665",
      "metadata": {
        "id": "8e3a0665",
        "outputId": "729fc5b3-b47f-46df-88d9-1595b620f4ad"
      },
      "outputs": [
        {
          "data": {
            "text/plain": [
              "[{'$group': {'_id': '$address', 'Avg': {'$avg': '$year'}}}]"
            ]
          },
          "execution_count": 44,
          "metadata": {},
          "output_type": "execute_result"
        }
      ],
      "source": [
        "pipeline"
      ]
    },
    {
      "cell_type": "code",
      "execution_count": null,
      "id": "9355d242",
      "metadata": {
        "id": "9355d242"
      },
      "outputs": [],
      "source": [
        "result = list(coll.aggregate(pipeline))"
      ]
    },
    {
      "cell_type": "code",
      "execution_count": null,
      "id": "efd1b434",
      "metadata": {
        "id": "efd1b434",
        "outputId": "70c71e1d-1d42-4ee4-85f8-8db7769eaadc"
      },
      "outputs": [
        {
          "data": {
            "text/plain": [
              "[{'_id': 'bangalore1', 'Avg': 2023.0},\n",
              " {'_id': 'bangalore', 'Avg': 2023.5},\n",
              " {'_id': 'bangalore3', 'Avg': 2023.0},\n",
              " {'_id': 'bangalore2', 'Avg': 2022.0},\n",
              " {'_id': 'bangalore4', 'Avg': 2021.0},\n",
              " {'_id': None, 'Avg': None}]"
            ]
          },
          "execution_count": 36,
          "metadata": {},
          "output_type": "execute_result"
        }
      ],
      "source": [
        "result"
      ]
    },
    {
      "cell_type": "code",
      "execution_count": null,
      "id": "c5b76cfa",
      "metadata": {
        "id": "c5b76cfa"
      },
      "outputs": [],
      "source": [
        "# sort"
      ]
    },
    {
      "cell_type": "code",
      "execution_count": null,
      "id": "0137f228",
      "metadata": {
        "id": "0137f228"
      },
      "outputs": [],
      "source": [
        "pipeline = [{\"$sort\": {\"year\": -1}}]"
      ]
    },
    {
      "cell_type": "code",
      "execution_count": null,
      "id": "c8ee3325",
      "metadata": {
        "id": "c8ee3325"
      },
      "outputs": [],
      "source": [
        "result = list(coll.aggregate(pipeline))"
      ]
    },
    {
      "cell_type": "code",
      "execution_count": null,
      "id": "9805ca60",
      "metadata": {
        "id": "9805ca60",
        "outputId": "0db131f5-a01d-467d-c040-7cb88156fc9b"
      },
      "outputs": [
        {
          "data": {
            "text/plain": [
              "[{'_id': ObjectId('65c6ebea3b9898778dc8e555'),\n",
              "  'name': 'Abhishek',\n",
              "  'address': 'bangalore',\n",
              "  'year': 2024,\n",
              "  'players': ['sachin', 'dravid']},\n",
              " {'_id': ObjectId('65bf15fb67a5ec31e78c9c02'),\n",
              "  'name': 'appolo3',\n",
              "  'address': 'bangalore',\n",
              "  'year': 2023},\n",
              " {'_id': ObjectId('65c6ebf03b9898778dc8e556'),\n",
              "  'name': 'appolo1',\n",
              "  'address': 'bangalore1',\n",
              "  'year': 2023},\n",
              " {'_id': ObjectId('65c6ebf03b9898778dc8e558'),\n",
              "  'name': 'appolo3',\n",
              "  'address': 'bangalore3',\n",
              "  'year': 2023},\n",
              " {'_id': ObjectId('65bf15fb67a5ec31e78c9c01'),\n",
              "  'name': 'appolo2',\n",
              "  'address': 'bangalore2',\n",
              "  'year': 2022},\n",
              " {'_id': ObjectId('65c6ebf03b9898778dc8e557'),\n",
              "  'name': 'appolo2',\n",
              "  'address': 'bangalore2',\n",
              "  'year': 2022},\n",
              " {'_id': ObjectId('65bf15fb67a5ec31e78c9c03'),\n",
              "  'name': 'appolo4',\n",
              "  'address': 'bangalore4',\n",
              "  'year': 2021},\n",
              " {'_id': ObjectId('65c6ebf03b9898778dc8e559'),\n",
              "  'name': 'appolo4',\n",
              "  'address': 'bangalore4',\n",
              "  'year': 2021},\n",
              " {'_id': ObjectId('65bf15fb67a5ec31e78c9c00'),\n",
              "  'name': 'appolo1',\n",
              "  'address': 'bangalore',\n",
              "  'year': None},\n",
              " {'_id': ObjectId('65bf1a5f874c79923da5e5a3'), 'name': 'schin', 'age': 26}]"
            ]
          },
          "execution_count": 48,
          "metadata": {},
          "output_type": "execute_result"
        }
      ],
      "source": [
        "result"
      ]
    },
    {
      "cell_type": "code",
      "execution_count": null,
      "id": "591952be",
      "metadata": {
        "id": "591952be"
      },
      "outputs": [],
      "source": [
        "# arrays"
      ]
    },
    {
      "cell_type": "code",
      "execution_count": null,
      "id": "96ce60c4",
      "metadata": {
        "id": "96ce60c4"
      },
      "outputs": [],
      "source": [
        "hospital_details = [\n",
        "{\n",
        "    'name' : 'appolo1',\n",
        "    'address' : dcotors.address,\n",
        "    'dcotors' : ['virat', 'sachin', 'dravid']\n",
        "},\n",
        "{\n",
        "    'name' : 'appolo2',\n",
        "    'address' : 'bangalore2',\n",
        "    'dcotors' : ['virat1', 'sachin1', 'dravid1']\n",
        "},\n",
        "{\n",
        "    'name' : 'appolo3',\n",
        "    'address' : 'bangalore3',\n",
        "    'dcotors' : ['virat2', 'sachin2', 'dravid2']\n",
        "},\n",
        "{\n",
        "    'name' : 'appolo8',\n",
        "    'address' : 'bangalore4',\n",
        "    'dcotors' : ['virat3', 'sachin3', 'dravid3']\n",
        "}\n",
        "]\n"
      ]
    },
    {
      "cell_type": "code",
      "execution_count": null,
      "id": "98d96cf0",
      "metadata": {
        "id": "98d96cf0"
      },
      "outputs": [],
      "source": [
        "coll.insert_many(hospital_details)"
      ]
    },
    {
      "cell_type": "code",
      "execution_count": null,
      "id": "61814df5",
      "metadata": {
        "id": "61814df5"
      },
      "outputs": [],
      "source": [
        "for i in coll.find():\n",
        "    print(i)"
      ]
    },
    {
      "cell_type": "code",
      "execution_count": null,
      "id": "93b0d40f",
      "metadata": {
        "id": "93b0d40f"
      },
      "outputs": [],
      "source": [
        "coll.update_one({\"name\": 'appolo8'}, {'$set': {\"dcotors.2\": 'nehra'}})"
      ]
    },
    {
      "cell_type": "code",
      "execution_count": null,
      "id": "2b9a3d3d",
      "metadata": {
        "id": "2b9a3d3d"
      },
      "outputs": [],
      "source": [
        "for i in coll.find():\n",
        "    print(i)"
      ]
    },
    {
      "cell_type": "code",
      "execution_count": null,
      "id": "7bde9d88",
      "metadata": {
        "id": "7bde9d88"
      },
      "outputs": [],
      "source": [
        "coll.update_one({\"name\": 'appolo8'}, {'$push': {\"dcotors\": 'gayle'}})"
      ]
    },
    {
      "cell_type": "code",
      "execution_count": null,
      "id": "8882b48b",
      "metadata": {
        "id": "8882b48b"
      },
      "outputs": [],
      "source": [
        "for i in coll.find():\n",
        "    print(i)"
      ]
    },
    {
      "cell_type": "code",
      "execution_count": null,
      "id": "a9689c50",
      "metadata": {
        "id": "a9689c50"
      },
      "outputs": [],
      "source": []
    },
    {
      "cell_type": "code",
      "execution_count": null,
      "id": "a1186567",
      "metadata": {
        "id": "a1186567"
      },
      "outputs": [],
      "source": []
    },
    {
      "cell_type": "code",
      "execution_count": null,
      "id": "2a6d7352",
      "metadata": {
        "id": "2a6d7352"
      },
      "outputs": [],
      "source": []
    },
    {
      "cell_type": "code",
      "execution_count": null,
      "id": "465d8fd9",
      "metadata": {
        "id": "465d8fd9"
      },
      "outputs": [],
      "source": [
        "{id:id1\n",
        "name:\n",
        "subject:}\n",
        "\n",
        "{id:id2\n",
        "name:\n",
        "subject:}\n",
        "\n"
      ]
    },
    {
      "cell_type": "code",
      "execution_count": null,
      "id": "255f2ffe",
      "metadata": {
        "id": "255f2ffe"
      },
      "outputs": [],
      "source": [
        "{\n",
        "    school name;\n",
        "    address:\n",
        "    subject1_teacher:id1,\n",
        "    subject2_teacer:id2,\n",
        "    {\n",
        "\n",
        "\n",
        "    }\n",
        "}"
      ]
    }
  ],
  "metadata": {
    "kernelspec": {
      "display_name": "Python 3 (ipykernel)",
      "language": "python",
      "name": "python3"
    },
    "language_info": {
      "codemirror_mode": {
        "name": "ipython",
        "version": 3
      },
      "file_extension": ".py",
      "mimetype": "text/x-python",
      "name": "python",
      "nbconvert_exporter": "python",
      "pygments_lexer": "ipython3",
      "version": "3.7.8"
    },
    "colab": {
      "provenance": [],
      "include_colab_link": true
    }
  },
  "nbformat": 4,
  "nbformat_minor": 5
}