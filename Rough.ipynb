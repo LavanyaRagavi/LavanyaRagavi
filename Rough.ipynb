{
  "nbformat": 4,
  "nbformat_minor": 0,
  "metadata": {
    "colab": {
      "provenance": [],
      "authorship_tag": "ABX9TyPbJ4H11a4aOs9qZbeUopIZ",
      "include_colab_link": true
    },
    "kernelspec": {
      "name": "python3",
      "display_name": "Python 3"
    },
    "language_info": {
      "name": "python"
    }
  },
  "cells": [
    {
      "cell_type": "markdown",
      "metadata": {
        "id": "view-in-github",
        "colab_type": "text"
      },
      "source": [
        "<a href=\"https://colab.research.google.com/github/LavanyaRagavi/LavanyaRagavi/blob/main/Rough.ipynb\" target=\"_parent\"><img src=\"https://colab.research.google.com/assets/colab-badge.svg\" alt=\"Open In Colab\"/></a>"
      ]
    },
    {
      "cell_type": "code",
      "execution_count": 5,
      "metadata": {
        "id": "BcivjX7-jks_"
      },
      "outputs": [],
      "source": [
        "a = [5,3,7,9,1,4,2,8]\n",
        "b = min(a)\n",
        "c = max(a)\n",
        "d = c-b\n",
        "\n",
        "while d>9:\n",
        "  print(d)\n",
        "\n",
        "\n",
        "\n"
      ]
    },
    {
      "cell_type": "code",
      "source": [
        "N = int(input())\n",
        "for i in range (1,N):\n",
        "  table = i * 9\n",
        "  print(table)"
      ],
      "metadata": {
        "id": "oaqdNd2Aogjl",
        "colab": {
          "base_uri": "https://localhost:8080/"
        },
        "outputId": "f1a8b146-3bfa-40e3-e659-f2485214f2cf"
      },
      "execution_count": null,
      "outputs": [
        {
          "output_type": "stream",
          "name": "stdout",
          "text": [
            "3\n",
            "9\n",
            "18\n"
          ]
        }
      ]
    },
    {
      "cell_type": "code",
      "source": [
        "N = int(input())\n",
        "if N == 0:\n",
        "  print(\"NULL\")\n",
        "else:\n",
        "  for i in range(1,N+1):\n",
        "    print(9*i,end=\" \")"
      ],
      "metadata": {
        "colab": {
          "base_uri": "https://localhost:8080/"
        },
        "id": "0YY7zCa_JqjZ",
        "outputId": "2fab9ad3-1fc0-435f-8099-6b849072ed0b"
      },
      "execution_count": null,
      "outputs": [
        {
          "output_type": "stream",
          "name": "stdout",
          "text": [
            "3\n",
            "9 18 27 "
          ]
        }
      ]
    },
    {
      "cell_type": "code",
      "source": [
        "j = 0\n",
        "while j<10:\n",
        "  print(j,end= ' ')\n",
        "  j+= 1"
      ],
      "metadata": {
        "colab": {
          "base_uri": "https://localhost:8080/"
        },
        "id": "SVlsUrteQIoJ",
        "outputId": "28d59e4c-22e3-41ec-8099-27856010a475"
      },
      "execution_count": null,
      "outputs": [
        {
          "output_type": "stream",
          "name": "stdout",
          "text": [
            "0 1 2 3 4 5 6 7 8 9 "
          ]
        }
      ]
    },
    {
      "cell_type": "code",
      "source": [
        "for i in range(1, 6):  # Loop from 1 to 5 (inclusive)\n",
        "    print(i, end=' ')"
      ],
      "metadata": {
        "colab": {
          "base_uri": "https://localhost:8080/"
        },
        "id": "Kh0wcnf_qbkG",
        "outputId": "de625cd0-a198-45f6-f0fd-37a86a4cd41e"
      },
      "execution_count": null,
      "outputs": [
        {
          "output_type": "stream",
          "name": "stdout",
          "text": [
            "1 2 3 4 5 "
          ]
        }
      ]
    },
    {
      "cell_type": "code",
      "source": [
        "def x(N):\n",
        "  a = 0\n",
        "  for i in range(1,N+1):\n",
        "    a+=i\n",
        "  return a\n",
        "N = int(input())\n",
        "sum = x(N)\n",
        "print(sum)\n",
        "\n",
        "\n"
      ],
      "metadata": {
        "colab": {
          "base_uri": "https://localhost:8080/"
        },
        "id": "tLsa8NmYFHwx",
        "outputId": "ffd2cc32-7156-43e6-c10c-8b8c7604a908"
      },
      "execution_count": null,
      "outputs": [
        {
          "output_type": "stream",
          "name": "stdout",
          "text": [
            "10\n",
            "55\n"
          ]
        }
      ]
    },
    {
      "cell_type": "code",
      "source": [
        "N = int(input())\n",
        "a = 0\n",
        "for i in range(1,N+1):\n",
        "  a+=i\n",
        "  print(a)\n"
      ],
      "metadata": {
        "colab": {
          "base_uri": "https://localhost:8080/"
        },
        "id": "evvmu_w6L-9Y",
        "outputId": "fe738863-8e98-4d39-f88d-704c277922ef"
      },
      "execution_count": null,
      "outputs": [
        {
          "output_type": "stream",
          "name": "stdout",
          "text": [
            "5\n",
            "1\n",
            "3\n",
            "6\n",
            "10\n",
            "15\n"
          ]
        }
      ]
    },
    {
      "cell_type": "code",
      "source": [
        "365//10"
      ],
      "metadata": {
        "colab": {
          "base_uri": "https://localhost:8080/"
        },
        "id": "hKpAEcUSl6vf",
        "outputId": "ae60719a-51e0-426b-8dde-1083077232fe"
      },
      "execution_count": null,
      "outputs": [
        {
          "output_type": "execute_result",
          "data": {
            "text/plain": [
              "36"
            ]
          },
          "metadata": {},
          "execution_count": 39
        }
      ]
    },
    {
      "cell_type": "code",
      "source": [
        "3%10"
      ],
      "metadata": {
        "colab": {
          "base_uri": "https://localhost:8080/"
        },
        "id": "PXO1qcW_owcT",
        "outputId": "e4e769d0-2121-437c-c720-9fedb6033ff8"
      },
      "execution_count": null,
      "outputs": [
        {
          "output_type": "execute_result",
          "data": {
            "text/plain": [
              "3"
            ]
          },
          "metadata": {},
          "execution_count": 40
        }
      ]
    },
    {
      "cell_type": "code",
      "source": [
        "N = int(input())\n",
        "def x(n):\n",
        "  a = 0\n",
        "  while n>0:\n",
        "    b = n % 10\n",
        "    a += b\n",
        "    n //= 10\n",
        "    return a\n",
        "sum = x(N)\n",
        "print(sum)"
      ],
      "metadata": {
        "colab": {
          "base_uri": "https://localhost:8080/"
        },
        "id": "sPXulYLZsoIZ",
        "outputId": "82674245-a48f-4a91-9165-c89c10494796"
      },
      "execution_count": null,
      "outputs": [
        {
          "output_type": "stream",
          "name": "stdout",
          "text": [
            "56\n",
            "6\n"
          ]
        }
      ]
    },
    {
      "cell_type": "code",
      "source": [
        "def x(n):\n",
        "    a = 0\n",
        "    while n > 0:\n",
        "        b = n % 10\n",
        "        a += b\n",
        "        n //= 10\n",
        "    return a\n",
        "N = int(input())\n",
        "sum = x(N)\n",
        "print(sum)"
      ],
      "metadata": {
        "colab": {
          "base_uri": "https://localhost:8080/"
        },
        "id": "sJ9TOwkBuO8r",
        "outputId": "6badcea1-061b-49d4-e56d-0f30063460ac"
      },
      "execution_count": null,
      "outputs": [
        {
          "output_type": "stream",
          "name": "stdout",
          "text": [
            "55\n",
            "10\n"
          ]
        }
      ]
    },
    {
      "cell_type": "code",
      "source": [],
      "metadata": {
        "id": "CQ1cPgIQw-Vo"
      },
      "execution_count": null,
      "outputs": []
    }
  ]
}